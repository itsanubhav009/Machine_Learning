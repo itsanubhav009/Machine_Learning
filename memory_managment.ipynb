{
 "cells": [
  {
   "cell_type": "code",
   "execution_count": 1,
   "id": "5dcdb11a-2d98-4c84-942c-d7dbbf34d1b0",
   "metadata": {},
   "outputs": [],
   "source": [
    "### Refrence Counting\n",
    "    #method in python uses to manage memory\n"
   ]
  },
  {
   "cell_type": "code",
   "execution_count": 2,
   "id": "b6e62dc8-c233-416f-bd80-e004d3a59f78",
   "metadata": {},
   "outputs": [
    {
     "name": "stdout",
     "output_type": "stream",
     "text": [
      "2\n"
     ]
    }
   ],
   "source": [
    "import sys\n",
    "a = []\n",
    "## 2 (one refrence from 'a' and one from getrefcount() )\n",
    "print(sys.getrefcount(a))"
   ]
  },
  {
   "cell_type": "code",
   "execution_count": 3,
   "id": "2c711761-20c8-4f23-81e1-2ee1c686b1b9",
   "metadata": {},
   "outputs": [
    {
     "name": "stdout",
     "output_type": "stream",
     "text": [
      "3\n",
      "2\n"
     ]
    }
   ],
   "source": [
    "b = a\n",
    "print(sys.getrefcount(b))\n",
    "del b\n",
    "print(sys.getrefcount(a))"
   ]
  },
  {
   "cell_type": "code",
   "execution_count": 4,
   "id": "b714683f-38a7-411d-afd8-2566e86d59c3",
   "metadata": {},
   "outputs": [
    {
     "data": {
      "text/plain": [
       "123"
      ]
     },
     "execution_count": 4,
     "metadata": {},
     "output_type": "execute_result"
    }
   ],
   "source": [
    "### Garbage Collection\n",
    "import gc\n",
    "gc.enable()\n",
    "gc.disable()\n",
    "gc.collect()\n"
   ]
  },
  {
   "cell_type": "code",
   "execution_count": 5,
   "id": "779c60eb-c250-42da-a59f-b596d9c46e6c",
   "metadata": {},
   "outputs": [
    {
     "name": "stdout",
     "output_type": "stream",
     "text": [
      "[{'collections': 165, 'collected': 1066, 'uncollectable': 0}, {'collections': 15, 'collected': 499, 'uncollectable': 0}, {'collections': 2, 'collected': 123, 'uncollectable': 0}]\n"
     ]
    }
   ],
   "source": [
    "### Get Garbage COllection stats\n",
    "\n",
    "print(gc.get_stats())"
   ]
  },
  {
   "cell_type": "code",
   "execution_count": null,
   "id": "2e1f79b1-bc03-4502-9a28-c233bdebbbe6",
   "metadata": {},
   "outputs": [],
   "source": [
    "## get unreachable object\n",
    "print(gc.garbage)"
   ]
  }
 ],
 "metadata": {
  "kernelspec": {
   "display_name": "Python 3 (ipykernel)",
   "language": "python",
   "name": "python3"
  },
  "language_info": {
   "codemirror_mode": {
    "name": "ipython",
    "version": 3
   },
   "file_extension": ".py",
   "mimetype": "text/x-python",
   "name": "python",
   "nbconvert_exporter": "python",
   "pygments_lexer": "ipython3",
   "version": "3.12.1"
  }
 },
 "nbformat": 4,
 "nbformat_minor": 5
}
